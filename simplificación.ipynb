{
  "nbformat": 4,
  "nbformat_minor": 0,
  "metadata": {
    "colab": {
      "provenance": [],
      "include_colab_link": true
    },
    "kernelspec": {
      "name": "python3",
      "display_name": "Python 3"
    },
    "language_info": {
      "name": "python"
    }
  },
  "cells": [
    {
      "cell_type": "markdown",
      "metadata": {
        "id": "view-in-github",
        "colab_type": "text"
      },
      "source": [
        "<a href=\"https://colab.research.google.com/github/djimenezapp/matematica/blob/main/simplificaci%C3%B3n.ipynb\" target=\"_parent\"><img src=\"https://colab.research.google.com/assets/colab-badge.svg\" alt=\"Open In Colab\"/></a>"
      ]
    },
    {
      "cell_type": "markdown",
      "source": [
        "\n",
        "\n",
        "# Simplificación de expresiones  Algebraicas\n",
        "\n",
        "\n",
        "1.   **Simplificación:**\n",
        "    -  **simplify()  Simplifica**\n",
        "    -  **factor()    factoriza**\n",
        "    -  **collect()   Agrupa**\n",
        "    -  Cancel()   Cancela terminos\n",
        "    -  **apart()    Fracciones parciales**\n",
        "    -  trigsimp()  Simplificacion Trigo\n",
        "    -  powsimp()   Simplificacion potencia\n",
        "    -  **.rewrite   Reescribe expresiones trigo**\n",
        "2.   Desarrollar()\n",
        "    -  **expand()    Desarrolla expresiones**\n",
        "    -  **expand_trig()  Desarrolla expr trig**\n",
        "    -  expand_log()  Desarrolla expr log\n",
        "    -  expand_power_base()  Desarrolla expr pot\n",
        "    - **expand_complex()**\n",
        "\n",
        "\n",
        "\n",
        "\n",
        "\n",
        "\n",
        "\n"
      ],
      "metadata": {
        "id": "YvVdQ6SvPuZ1"
      }
    },
    {
      "cell_type": "code",
      "source": [
        "from sympy import *"
      ],
      "metadata": {
        "id": "2VaP5F09QOXR"
      },
      "execution_count": null,
      "outputs": []
    },
    {
      "cell_type": "code",
      "source": [
        "x,y=symbols('x y')"
      ],
      "metadata": {
        "id": "6WM4cpPQXNET"
      },
      "execution_count": null,
      "outputs": []
    },
    {
      "cell_type": "code",
      "source": [
        "expr=(x+y)**4\n",
        "expr"
      ],
      "metadata": {
        "colab": {
          "base_uri": "https://localhost:8080/",
          "height": 59
        },
        "id": "mmNi85RDXQBQ",
        "outputId": "1964cf96-c333-4ab1-bcf7-c96a80677e06"
      },
      "execution_count": null,
      "outputs": [
        {
          "output_type": "execute_result",
          "data": {
            "text/plain": [
              "(x + y)**4"
            ],
            "text/latex": "$\\displaystyle \\left(x + y\\right)^{4}$"
          },
          "metadata": {},
          "execution_count": 48
        }
      ]
    },
    {
      "cell_type": "code",
      "source": [
        "expand(expr)"
      ],
      "metadata": {
        "colab": {
          "base_uri": "https://localhost:8080/",
          "height": 59
        },
        "id": "wuTRA6cqZHbv",
        "outputId": "0cb5c3b0-a990-4ddc-fb31-f6bd8bbae38a"
      },
      "execution_count": null,
      "outputs": [
        {
          "output_type": "execute_result",
          "data": {
            "text/plain": [
              "x**4 + 4*x**3*y + 6*x**2*y**2 + 4*x*y**3 + y**4"
            ],
            "text/latex": "$\\displaystyle x^{4} + 4 x^{3} y + 6 x^{2} y^{2} + 4 x y^{3} + y^{4}$"
          },
          "metadata": {},
          "execution_count": 49
        }
      ]
    },
    {
      "cell_type": "code",
      "source": [
        "_.factor()"
      ],
      "metadata": {
        "colab": {
          "base_uri": "https://localhost:8080/",
          "height": 59
        },
        "id": "ZLrJDp8vZMr0",
        "outputId": "db77208c-ac6f-4ad1-8c27-b4471649da1a"
      },
      "execution_count": null,
      "outputs": [
        {
          "output_type": "execute_result",
          "data": {
            "text/plain": [
              "(x + y)**4"
            ],
            "text/latex": "$\\displaystyle \\left(x + y\\right)^{4}$"
          },
          "metadata": {},
          "execution_count": 50
        }
      ]
    },
    {
      "cell_type": "code",
      "source": [
        "factor(x**2+5*x+6)"
      ],
      "metadata": {
        "colab": {
          "base_uri": "https://localhost:8080/",
          "height": 59
        },
        "id": "GVFCDqEjZVRg",
        "outputId": "292eb3e4-8e02-43d9-a280-89dd6a35805c"
      },
      "execution_count": null,
      "outputs": [
        {
          "output_type": "execute_result",
          "data": {
            "text/plain": [
              "(x + 2)*(x + 3)"
            ],
            "text/latex": "$\\displaystyle \\left(x + 2\\right) \\left(x + 3\\right)$"
          },
          "metadata": {},
          "execution_count": 51
        }
      ]
    },
    {
      "cell_type": "code",
      "source": [
        "simplify(cos(x)**2+sin(x)**2)"
      ],
      "metadata": {
        "colab": {
          "base_uri": "https://localhost:8080/",
          "height": 57
        },
        "id": "8VUMNXRoZdav",
        "outputId": "8ab841d9-29fc-433c-d492-cf50b0f2398b"
      },
      "execution_count": null,
      "outputs": [
        {
          "output_type": "execute_result",
          "data": {
            "text/plain": [
              "1"
            ],
            "text/latex": "$\\displaystyle 1$"
          },
          "metadata": {},
          "execution_count": 52
        }
      ]
    },
    {
      "cell_type": "code",
      "source": [
        "expr=sin(x)/(tan(x)+cos(x))\n",
        "expr.rewrite(cos(x))"
      ],
      "metadata": {
        "colab": {
          "base_uri": "https://localhost:8080/",
          "height": 93
        },
        "id": "br3Xky1rZn5e",
        "outputId": "80c62a9d-d6b7-42fb-9353-25d9422b0a21"
      },
      "execution_count": null,
      "outputs": [
        {
          "output_type": "execute_result",
          "data": {
            "text/plain": [
              "cos(x - pi/2)/(cos(x) + cos(x - pi/2)/cos(x))"
            ],
            "text/latex": "$\\displaystyle \\frac{\\cos{\\left(x - \\frac{\\pi}{2} \\right)}}{\\cos{\\left(x \\right)} + \\frac{\\cos{\\left(x - \\frac{\\pi}{2} \\right)}}{\\cos{\\left(x \\right)}}}$"
          },
          "metadata": {},
          "execution_count": 54
        }
      ]
    },
    {
      "cell_type": "code",
      "source": [
        "_54.simplify()"
      ],
      "metadata": {
        "colab": {
          "base_uri": "https://localhost:8080/",
          "height": 77
        },
        "id": "OpojpdOnZwU5",
        "outputId": "65d6c76a-5aa0-436d-fab5-95d6a8eb7505"
      },
      "execution_count": null,
      "outputs": [
        {
          "output_type": "execute_result",
          "data": {
            "text/plain": [
              "sin(2*x)/(2*sin(x) + cos(2*x) + 1)"
            ],
            "text/latex": "$\\displaystyle \\frac{\\sin{\\left(2 x \\right)}}{2 \\sin{\\left(x \\right)} + \\cos{\\left(2 x \\right)} + 1}$"
          },
          "metadata": {},
          "execution_count": 55
        }
      ]
    },
    {
      "cell_type": "code",
      "source": [
        "_54.trigsimp()"
      ],
      "metadata": {
        "colab": {
          "base_uri": "https://localhost:8080/",
          "height": 77
        },
        "id": "qABBpudEZ8bD",
        "outputId": "00e5beeb-08be-405b-e41e-d28f9a1356d1"
      },
      "execution_count": null,
      "outputs": [
        {
          "output_type": "execute_result",
          "data": {
            "text/plain": [
              "sin(x)/(cos(x) + tan(x))"
            ],
            "text/latex": "$\\displaystyle \\frac{\\sin{\\left(x \\right)}}{\\cos{\\left(x \\right)} + \\tan{\\left(x \\right)}}$"
          },
          "metadata": {},
          "execution_count": 56
        }
      ]
    },
    {
      "cell_type": "code",
      "source": [
        "expand(sin(x+y))"
      ],
      "metadata": {
        "colab": {
          "base_uri": "https://localhost:8080/",
          "height": 59
        },
        "id": "5ARMlOfwaBjS",
        "outputId": "8bac7b98-9919-4ebd-ed65-22f8bee7301a"
      },
      "execution_count": null,
      "outputs": [
        {
          "output_type": "execute_result",
          "data": {
            "text/plain": [
              "sin(x + y)"
            ],
            "text/latex": "$\\displaystyle \\sin{\\left(x + y \\right)}$"
          },
          "metadata": {},
          "execution_count": 57
        }
      ]
    },
    {
      "cell_type": "code",
      "source": [
        "expand_trig(sin(x+y))"
      ],
      "metadata": {
        "colab": {
          "base_uri": "https://localhost:8080/",
          "height": 59
        },
        "id": "iDOIhxw7aMir",
        "outputId": "569ebe68-f1b7-454a-8156-1007b7aa4908"
      },
      "execution_count": null,
      "outputs": [
        {
          "output_type": "execute_result",
          "data": {
            "text/plain": [
              "sin(x)*cos(y) + sin(y)*cos(x)"
            ],
            "text/latex": "$\\displaystyle \\sin{\\left(x \\right)} \\cos{\\left(y \\right)} + \\sin{\\left(y \\right)} \\cos{\\left(x \\right)}$"
          },
          "metadata": {},
          "execution_count": 58
        }
      ]
    },
    {
      "cell_type": "code",
      "source": [
        "expr=(x+I+y)**2"
      ],
      "metadata": {
        "id": "5t1El6dGaRHE"
      },
      "execution_count": null,
      "outputs": []
    },
    {
      "cell_type": "code",
      "source": [
        "expr.expand()"
      ],
      "metadata": {
        "colab": {
          "base_uri": "https://localhost:8080/",
          "height": 59
        },
        "id": "9NCj7TlEaXy0",
        "outputId": "c2369778-67ef-4c6e-c817-7a822b12dc72"
      },
      "execution_count": null,
      "outputs": [
        {
          "output_type": "execute_result",
          "data": {
            "text/plain": [
              "x**2 + 2*x*y + 2*I*x + y**2 + 2*I*y - 1"
            ],
            "text/latex": "$\\displaystyle x^{2} + 2 x y + 2 i x + y^{2} + 2 i y - 1$"
          },
          "metadata": {},
          "execution_count": 61
        }
      ]
    },
    {
      "cell_type": "code",
      "source": [
        "x,y=symbols('x y',real=True)\n",
        "expr=(x+I+y)**2\n",
        "expand_complex(expr)"
      ],
      "metadata": {
        "colab": {
          "base_uri": "https://localhost:8080/",
          "height": 59
        },
        "id": "Gjot9ClUagio",
        "outputId": "a32dccff-01be-4012-ea6e-5f7b3008df3d"
      },
      "execution_count": null,
      "outputs": [
        {
          "output_type": "execute_result",
          "data": {
            "text/plain": [
              "(x + y)**2 + I*(2*x + 2*y) - 1"
            ],
            "text/latex": "$\\displaystyle \\left(x + y\\right)^{2} + i \\left(2 x + 2 y\\right) - 1$"
          },
          "metadata": {},
          "execution_count": 67
        }
      ]
    },
    {
      "cell_type": "code",
      "source": [
        "collect(expand((x+1+x*y)**3),y)"
      ],
      "metadata": {
        "colab": {
          "base_uri": "https://localhost:8080/",
          "height": 59
        },
        "id": "TXx3agMCaxnr",
        "outputId": "0d83acd6-2d8b-4a23-ae5f-bd3bbb860fd8"
      },
      "execution_count": null,
      "outputs": [
        {
          "output_type": "execute_result",
          "data": {
            "text/plain": [
              "x**3*y**3 + x**3 + 3*x**2 + 3*x + y**2*(3*x**3 + 3*x**2) + y*(3*x**3 + 6*x**2 + 3*x) + 1"
            ],
            "text/latex": "$\\displaystyle x^{3} y^{3} + x^{3} + 3 x^{2} + 3 x + y^{2} \\cdot \\left(3 x^{3} + 3 x^{2}\\right) + y \\left(3 x^{3} + 6 x^{2} + 3 x\\right) + 1$"
          },
          "metadata": {},
          "execution_count": 70
        }
      ]
    },
    {
      "cell_type": "code",
      "source": [
        "apart(x/((x+1)*(x-2)))"
      ],
      "metadata": {
        "colab": {
          "base_uri": "https://localhost:8080/",
          "height": 75
        },
        "id": "at9SyHNQbFl3",
        "outputId": "03110b5b-f820-4f6d-b9f2-82cb692a70a6"
      },
      "execution_count": null,
      "outputs": [
        {
          "output_type": "execute_result",
          "data": {
            "text/plain": [
              "1/(3*(x + 1)) + 2/(3*(x - 2))"
            ],
            "text/latex": "$\\displaystyle \\frac{1}{3 \\left(x + 1\\right)} + \\frac{2}{3 \\left(x - 2\\right)}$"
          },
          "metadata": {},
          "execution_count": 71
        }
      ]
    },
    {
      "cell_type": "code",
      "source": [],
      "metadata": {
        "id": "b9DtDu4XbXf1"
      },
      "execution_count": null,
      "outputs": []
    }
  ]
}